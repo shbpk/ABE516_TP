{
 "cells": [
  {
   "cell_type": "code",
   "execution_count": 12,
   "id": "04e95ca3",
   "metadata": {},
   "outputs": [
    {
     "name": "stdout",
     "output_type": "stream",
     "text": [
      "        Date  Week No  Year   Site       Date_TAG event_type    ent  tet_ent  \\\n",
      "0 2021-03-18       12  2021  BHL-5  BHL-5-12-2021       base  141.0     28.0   \n",
      "1 2021-03-18       12  2021     T8     T8-12-2021       base  126.0     16.0   \n",
      "2 2021-03-18       12  2021    S11    S11-12-2021       base   77.0     21.0   \n",
      "3 2021-03-18       12  2021   SW12   SW12-12-2021       base   20.0      0.0   \n",
      "4 2021-04-09       15  2021  BHL-5  BHL-5-15-2021       base   52.0      4.0   \n",
      "\n",
      "   tyl_ent  ecoli  Precip  Precip-1  Temp  Temp-1  TSS    DRP     TP      TN  \\\n",
      "0      6.0   79.0     NaN       0.0   NaN    26.3  NaN    NaN    NaN     NaN   \n",
      "1      1.0   75.0     NaN       NaN   NaN     NaN  0.5  0.083  0.087  16.402   \n",
      "2      2.0   10.0     NaN       NaN   NaN     NaN  0.5  0.028  0.033  18.149   \n",
      "3      0.0    3.0     NaN       NaN   NaN     NaN  3.0  0.002  0.027  10.910   \n",
      "4      1.0   16.0     0.0       NaN  67.4     NaN  NaN    NaN    NaN     NaN   \n",
      "\n",
      "   Avg_Flow  \n",
      "0       NaN  \n",
      "1  0.001087  \n",
      "2  0.022349  \n",
      "3  0.022349  \n",
      "4       NaN  \n"
     ]
    }
   ],
   "source": [
    "# Importing panda library\n",
    "import pandas as pd\n",
    "\n",
    "# Read the CSV file with a date column in the \"DD/MM/YYYY\" format\n",
    "df = pd.read_csv('../shbne/FIB/Mapped with NutrientsTIME.csv', parse_dates=['Date'], dayfirst=True)\n",
    "\n",
    "# Print the first few rows of the dataframe\n",
    "print(df.head())"
   ]
  },
  {
   "cell_type": "code",
   "execution_count": 15,
   "id": "e0cf1d97",
   "metadata": {},
   "outputs": [
    {
     "name": "stdout",
     "output_type": "stream",
     "text": [
      "<class 'pandas.core.frame.DataFrame'>\n",
      "RangeIndex: 353 entries, 0 to 352\n",
      "Data columns (total 19 columns):\n",
      " #   Column      Non-Null Count  Dtype         \n",
      "---  ------      --------------  -----         \n",
      " 0   Date        353 non-null    datetime64[ns]\n",
      " 1   Week No     353 non-null    int64         \n",
      " 2   Year        353 non-null    int64         \n",
      " 3   Site        353 non-null    object        \n",
      " 4   Date_TAG    353 non-null    object        \n",
      " 5   event_type  353 non-null    object        \n",
      " 6   ent         324 non-null    float64       \n",
      " 7   tet_ent     324 non-null    float64       \n",
      " 8   tyl_ent     331 non-null    float64       \n",
      " 9   ecoli       318 non-null    float64       \n",
      " 10  Precip      330 non-null    float64       \n",
      " 11  Precip-1    330 non-null    float64       \n",
      " 12  Temp        330 non-null    float64       \n",
      " 13  Temp-1      330 non-null    float64       \n",
      " 14  TSS         247 non-null    float64       \n",
      " 15  DRP         247 non-null    float64       \n",
      " 16  TP          247 non-null    float64       \n",
      " 17  TN          247 non-null    float64       \n",
      " 18  Avg_Flow    247 non-null    float64       \n",
      "dtypes: datetime64[ns](1), float64(13), int64(2), object(3)\n",
      "memory usage: 52.5+ KB\n"
     ]
    }
   ],
   "source": [
    "# Checking if the data has been detected properly for date and time variable\n",
    "df.info()"
   ]
  },
  {
   "cell_type": "code",
   "execution_count": 19,
   "id": "c35aa8ab",
   "metadata": {},
   "outputs": [
    {
     "data": {
      "text/plain": [
       "Index(['Date', 'Week No', 'Year', 'Site', 'Date_TAG', 'event_type', 'ent',\n",
       "       'tet_ent', 'tyl_ent', 'ecoli', 'Precip', 'Precip-1', 'Temp', 'Temp-1',\n",
       "       'TSS', 'DRP', 'TP', 'TN', 'Avg_Flow'],\n",
       "      dtype='object')"
      ]
     },
     "execution_count": 19,
     "metadata": {},
     "output_type": "execute_result"
    }
   ],
   "source": [
    "# Listing the columns for the read dataets\n",
    "df.columns"
   ]
  },
  {
   "cell_type": "code",
   "execution_count": 23,
   "id": "bbe5e528",
   "metadata": {},
   "outputs": [
    {
     "data": {
      "text/html": [
       "<div>\n",
       "<style scoped>\n",
       "    .dataframe tbody tr th:only-of-type {\n",
       "        vertical-align: middle;\n",
       "    }\n",
       "\n",
       "    .dataframe tbody tr th {\n",
       "        vertical-align: top;\n",
       "    }\n",
       "\n",
       "    .dataframe thead th {\n",
       "        text-align: right;\n",
       "    }\n",
       "</style>\n",
       "<table border=\"1\" class=\"dataframe\">\n",
       "  <thead>\n",
       "    <tr style=\"text-align: right;\">\n",
       "      <th></th>\n",
       "      <th>Date</th>\n",
       "      <th>ent</th>\n",
       "      <th>tet_ent</th>\n",
       "      <th>tyl_ent</th>\n",
       "      <th>ecoli</th>\n",
       "      <th>Precip</th>\n",
       "      <th>Precip-1</th>\n",
       "      <th>Temp</th>\n",
       "      <th>Temp-1</th>\n",
       "      <th>TSS</th>\n",
       "      <th>DRP</th>\n",
       "      <th>TP</th>\n",
       "      <th>TN</th>\n",
       "      <th>Avg_Flow</th>\n",
       "    </tr>\n",
       "  </thead>\n",
       "  <tbody>\n",
       "    <tr>\n",
       "      <th>0</th>\n",
       "      <td>2021-03-18</td>\n",
       "      <td>141.0</td>\n",
       "      <td>28.0</td>\n",
       "      <td>6.0</td>\n",
       "      <td>79.0</td>\n",
       "      <td>NaN</td>\n",
       "      <td>0.0</td>\n",
       "      <td>NaN</td>\n",
       "      <td>26.3</td>\n",
       "      <td>NaN</td>\n",
       "      <td>NaN</td>\n",
       "      <td>NaN</td>\n",
       "      <td>NaN</td>\n",
       "      <td>NaN</td>\n",
       "    </tr>\n",
       "    <tr>\n",
       "      <th>1</th>\n",
       "      <td>2021-03-18</td>\n",
       "      <td>126.0</td>\n",
       "      <td>16.0</td>\n",
       "      <td>1.0</td>\n",
       "      <td>75.0</td>\n",
       "      <td>NaN</td>\n",
       "      <td>NaN</td>\n",
       "      <td>NaN</td>\n",
       "      <td>NaN</td>\n",
       "      <td>0.5</td>\n",
       "      <td>0.083</td>\n",
       "      <td>0.087</td>\n",
       "      <td>16.402</td>\n",
       "      <td>0.001087</td>\n",
       "    </tr>\n",
       "    <tr>\n",
       "      <th>2</th>\n",
       "      <td>2021-03-18</td>\n",
       "      <td>77.0</td>\n",
       "      <td>21.0</td>\n",
       "      <td>2.0</td>\n",
       "      <td>10.0</td>\n",
       "      <td>NaN</td>\n",
       "      <td>NaN</td>\n",
       "      <td>NaN</td>\n",
       "      <td>NaN</td>\n",
       "      <td>0.5</td>\n",
       "      <td>0.028</td>\n",
       "      <td>0.033</td>\n",
       "      <td>18.149</td>\n",
       "      <td>0.022349</td>\n",
       "    </tr>\n",
       "    <tr>\n",
       "      <th>3</th>\n",
       "      <td>2021-03-18</td>\n",
       "      <td>20.0</td>\n",
       "      <td>0.0</td>\n",
       "      <td>0.0</td>\n",
       "      <td>3.0</td>\n",
       "      <td>NaN</td>\n",
       "      <td>NaN</td>\n",
       "      <td>NaN</td>\n",
       "      <td>NaN</td>\n",
       "      <td>3.0</td>\n",
       "      <td>0.002</td>\n",
       "      <td>0.027</td>\n",
       "      <td>10.910</td>\n",
       "      <td>0.022349</td>\n",
       "    </tr>\n",
       "    <tr>\n",
       "      <th>4</th>\n",
       "      <td>2021-04-09</td>\n",
       "      <td>52.0</td>\n",
       "      <td>4.0</td>\n",
       "      <td>1.0</td>\n",
       "      <td>16.0</td>\n",
       "      <td>0.0</td>\n",
       "      <td>NaN</td>\n",
       "      <td>67.4</td>\n",
       "      <td>NaN</td>\n",
       "      <td>NaN</td>\n",
       "      <td>NaN</td>\n",
       "      <td>NaN</td>\n",
       "      <td>NaN</td>\n",
       "      <td>NaN</td>\n",
       "    </tr>\n",
       "    <tr>\n",
       "      <th>5</th>\n",
       "      <td>2021-04-09</td>\n",
       "      <td>888.0</td>\n",
       "      <td>125.0</td>\n",
       "      <td>39.0</td>\n",
       "      <td>1000.0</td>\n",
       "      <td>0.0</td>\n",
       "      <td>0.0</td>\n",
       "      <td>67.4</td>\n",
       "      <td>67.4</td>\n",
       "      <td>0.5</td>\n",
       "      <td>0.081</td>\n",
       "      <td>0.085</td>\n",
       "      <td>20.973</td>\n",
       "      <td>0.012124</td>\n",
       "    </tr>\n",
       "    <tr>\n",
       "      <th>6</th>\n",
       "      <td>2021-04-09</td>\n",
       "      <td>88.0</td>\n",
       "      <td>14.0</td>\n",
       "      <td>3.0</td>\n",
       "      <td>40.0</td>\n",
       "      <td>0.0</td>\n",
       "      <td>0.0</td>\n",
       "      <td>67.4</td>\n",
       "      <td>67.4</td>\n",
       "      <td>2.0</td>\n",
       "      <td>0.015</td>\n",
       "      <td>0.021</td>\n",
       "      <td>25.343</td>\n",
       "      <td>0.009243</td>\n",
       "    </tr>\n",
       "    <tr>\n",
       "      <th>7</th>\n",
       "      <td>2021-04-09</td>\n",
       "      <td>6.0</td>\n",
       "      <td>1.0</td>\n",
       "      <td>0.0</td>\n",
       "      <td>4.0</td>\n",
       "      <td>0.0</td>\n",
       "      <td>0.0</td>\n",
       "      <td>67.4</td>\n",
       "      <td>67.4</td>\n",
       "      <td>6.0</td>\n",
       "      <td>0.001</td>\n",
       "      <td>0.031</td>\n",
       "      <td>10.290</td>\n",
       "      <td>0.073479</td>\n",
       "    </tr>\n",
       "    <tr>\n",
       "      <th>8</th>\n",
       "      <td>2021-04-15</td>\n",
       "      <td>38.0</td>\n",
       "      <td>3.0</td>\n",
       "      <td>0.0</td>\n",
       "      <td>16.0</td>\n",
       "      <td>NaN</td>\n",
       "      <td>0.0</td>\n",
       "      <td>NaN</td>\n",
       "      <td>67.4</td>\n",
       "      <td>NaN</td>\n",
       "      <td>NaN</td>\n",
       "      <td>NaN</td>\n",
       "      <td>NaN</td>\n",
       "      <td>NaN</td>\n",
       "    </tr>\n",
       "    <tr>\n",
       "      <th>9</th>\n",
       "      <td>2021-04-15</td>\n",
       "      <td>172.0</td>\n",
       "      <td>3.0</td>\n",
       "      <td>1.0</td>\n",
       "      <td>380.0</td>\n",
       "      <td>NaN</td>\n",
       "      <td>NaN</td>\n",
       "      <td>NaN</td>\n",
       "      <td>NaN</td>\n",
       "      <td>0.5</td>\n",
       "      <td>0.049</td>\n",
       "      <td>0.047</td>\n",
       "      <td>21.386</td>\n",
       "      <td>0.004176</td>\n",
       "    </tr>\n",
       "  </tbody>\n",
       "</table>\n",
       "</div>"
      ],
      "text/plain": [
       "        Date    ent  tet_ent  tyl_ent   ecoli  Precip  Precip-1  Temp  Temp-1  \\\n",
       "0 2021-03-18  141.0     28.0      6.0    79.0     NaN       0.0   NaN    26.3   \n",
       "1 2021-03-18  126.0     16.0      1.0    75.0     NaN       NaN   NaN     NaN   \n",
       "2 2021-03-18   77.0     21.0      2.0    10.0     NaN       NaN   NaN     NaN   \n",
       "3 2021-03-18   20.0      0.0      0.0     3.0     NaN       NaN   NaN     NaN   \n",
       "4 2021-04-09   52.0      4.0      1.0    16.0     0.0       NaN  67.4     NaN   \n",
       "5 2021-04-09  888.0    125.0     39.0  1000.0     0.0       0.0  67.4    67.4   \n",
       "6 2021-04-09   88.0     14.0      3.0    40.0     0.0       0.0  67.4    67.4   \n",
       "7 2021-04-09    6.0      1.0      0.0     4.0     0.0       0.0  67.4    67.4   \n",
       "8 2021-04-15   38.0      3.0      0.0    16.0     NaN       0.0   NaN    67.4   \n",
       "9 2021-04-15  172.0      3.0      1.0   380.0     NaN       NaN   NaN     NaN   \n",
       "\n",
       "   TSS    DRP     TP      TN  Avg_Flow  \n",
       "0  NaN    NaN    NaN     NaN       NaN  \n",
       "1  0.5  0.083  0.087  16.402  0.001087  \n",
       "2  0.5  0.028  0.033  18.149  0.022349  \n",
       "3  3.0  0.002  0.027  10.910  0.022349  \n",
       "4  NaN    NaN    NaN     NaN       NaN  \n",
       "5  0.5  0.081  0.085  20.973  0.012124  \n",
       "6  2.0  0.015  0.021  25.343  0.009243  \n",
       "7  6.0  0.001  0.031  10.290  0.073479  \n",
       "8  NaN    NaN    NaN     NaN       NaN  \n",
       "9  0.5  0.049  0.047  21.386  0.004176  "
      ]
     },
     "execution_count": 23,
     "metadata": {},
     "output_type": "execute_result"
    }
   ],
   "source": [
    "# Dropping extra time related columns and variable \"event_type\" and \"Site\"\n",
    "df2=df.drop([\"Week No\", \"Year\", \"Date_TAG\", \"event_type\", \"Site\"], axis=1)\n",
    "df2.head(10)"
   ]
  },
  {
   "cell_type": "code",
   "execution_count": 41,
   "id": "b424b07a",
   "metadata": {},
   "outputs": [
    {
     "data": {
      "text/plain": [
       "Index(['Date', 'ent', 'tet_ent', 'tyl_ent', 'ecoli', 'Precip', 'Precip-1',\n",
       "       'Temp', 'Temp-1', 'TSS', 'DRP', 'TP', 'TN', 'Avg_Flow'],\n",
       "      dtype='object')"
      ]
     },
     "execution_count": 41,
     "metadata": {},
     "output_type": "execute_result"
    }
   ],
   "source": [
    "df2.columns"
   ]
  },
  {
   "cell_type": "code",
   "execution_count": 79,
   "id": "a6ff9737",
   "metadata": {},
   "outputs": [
    {
     "data": {
      "text/html": [
       "<div>\n",
       "<style scoped>\n",
       "    .dataframe tbody tr th:only-of-type {\n",
       "        vertical-align: middle;\n",
       "    }\n",
       "\n",
       "    .dataframe tbody tr th {\n",
       "        vertical-align: top;\n",
       "    }\n",
       "\n",
       "    .dataframe thead th {\n",
       "        text-align: right;\n",
       "    }\n",
       "</style>\n",
       "<table border=\"1\" class=\"dataframe\">\n",
       "  <thead>\n",
       "    <tr style=\"text-align: right;\">\n",
       "      <th></th>\n",
       "      <th>ent</th>\n",
       "      <th>tyl_ent</th>\n",
       "      <th>ecoli</th>\n",
       "      <th>tet_ent</th>\n",
       "    </tr>\n",
       "  </thead>\n",
       "  <tbody>\n",
       "    <tr>\n",
       "      <th>0</th>\n",
       "      <td>141.0</td>\n",
       "      <td>6.0</td>\n",
       "      <td>79.0</td>\n",
       "      <td>28.0</td>\n",
       "    </tr>\n",
       "    <tr>\n",
       "      <th>1</th>\n",
       "      <td>126.0</td>\n",
       "      <td>1.0</td>\n",
       "      <td>75.0</td>\n",
       "      <td>16.0</td>\n",
       "    </tr>\n",
       "    <tr>\n",
       "      <th>2</th>\n",
       "      <td>77.0</td>\n",
       "      <td>2.0</td>\n",
       "      <td>10.0</td>\n",
       "      <td>21.0</td>\n",
       "    </tr>\n",
       "    <tr>\n",
       "      <th>3</th>\n",
       "      <td>20.0</td>\n",
       "      <td>0.0</td>\n",
       "      <td>3.0</td>\n",
       "      <td>0.0</td>\n",
       "    </tr>\n",
       "    <tr>\n",
       "      <th>4</th>\n",
       "      <td>52.0</td>\n",
       "      <td>1.0</td>\n",
       "      <td>16.0</td>\n",
       "      <td>4.0</td>\n",
       "    </tr>\n",
       "  </tbody>\n",
       "</table>\n",
       "</div>"
      ],
      "text/plain": [
       "     ent  tyl_ent  ecoli  tet_ent\n",
       "0  141.0      6.0   79.0     28.0\n",
       "1  126.0      1.0   75.0     16.0\n",
       "2   77.0      2.0   10.0     21.0\n",
       "3   20.0      0.0    3.0      0.0\n",
       "4   52.0      1.0   16.0      4.0"
      ]
     },
     "execution_count": 79,
     "metadata": {},
     "output_type": "execute_result"
    }
   ],
   "source": [
    "# For this problem, we are tryign to establish an ML model to predict the variable \"tet_ent\" from the other phenotypic variables only\n",
    "df3 = df2[['ent', 'tyl_ent', 'ecoli','tet_ent']]\n",
    "df3.head()"
   ]
  },
  {
   "cell_type": "code",
   "execution_count": 94,
   "id": "8ce54ab5",
   "metadata": {},
   "outputs": [
    {
     "name": "stdout",
     "output_type": "stream",
     "text": [
      "ent        29\n",
      "tyl_ent    22\n",
      "ecoli      35\n",
      "tet_ent    29\n",
      "dtype: int64\n"
     ]
    }
   ],
   "source": [
    "# Checking null values\n",
    "print(df3.isna().sum())\n"
   ]
  },
  {
   "cell_type": "code",
   "execution_count": 95,
   "id": "5c653759",
   "metadata": {},
   "outputs": [
    {
     "name": "stdout",
     "output_type": "stream",
     "text": [
      "ent        0\n",
      "tyl_ent    0\n",
      "ecoli      0\n",
      "tet_ent    0\n",
      "dtype: int64\n"
     ]
    }
   ],
   "source": [
    "#dropping null values where ecoli or ent was not present\n",
    "df4 = df3.dropna(subset=['ecoli', 'ent'])\n",
    "print(df4.isna().sum())"
   ]
  },
  {
   "cell_type": "code",
   "execution_count": 96,
   "id": "a8050f97",
   "metadata": {},
   "outputs": [],
   "source": [
    "#Subsetting data for ML model\n",
    "X = df4.iloc[:,:-1]\n",
    "y = df4.iloc[:,-1]"
   ]
  },
  {
   "cell_type": "code",
   "execution_count": 97,
   "id": "fa7a2fb7",
   "metadata": {},
   "outputs": [],
   "source": [
    "#Importing scikitlearn's train-test split module\n",
    "from sklearn.model_selection import train_test_split\n",
    "X_train, X_test, y_train, y_test = train_test_split(X,y,random_state=100)"
   ]
  },
  {
   "cell_type": "code",
   "execution_count": 98,
   "id": "846d0212",
   "metadata": {},
   "outputs": [],
   "source": [
    "#Importing the XGBoost Regression Model library\n",
    "from xgboost import XGBRegressor\n",
    "xg_reg = XGBRegressor()"
   ]
  },
  {
   "cell_type": "code",
   "execution_count": 100,
   "id": "18e6c0d3",
   "metadata": {},
   "outputs": [
    {
     "data": {
      "text/plain": [
       "XGBRegressor(base_score=None, booster=None, callbacks=None,\n",
       "             colsample_bylevel=None, colsample_bynode=None,\n",
       "             colsample_bytree=None, early_stopping_rounds=None,\n",
       "             enable_categorical=False, eval_metric=None, feature_types=None,\n",
       "             gamma=None, gpu_id=None, grow_policy=None, importance_type=None,\n",
       "             interaction_constraints=None, learning_rate=None, max_bin=None,\n",
       "             max_cat_threshold=None, max_cat_to_onehot=None,\n",
       "             max_delta_step=None, max_depth=None, max_leaves=None,\n",
       "             min_child_weight=None, missing=nan, monotone_constraints=None,\n",
       "             n_estimators=100, n_jobs=None, num_parallel_tree=None,\n",
       "             predictor=None, random_state=None, ...)"
      ]
     },
     "execution_count": 100,
     "metadata": {},
     "output_type": "execute_result"
    }
   ],
   "source": [
    "#Fitting the model on training data\n",
    "xg_reg.fit(X_train, y_train)"
   ]
  },
  {
   "cell_type": "code",
   "execution_count": 101,
   "id": "6dc38b0a",
   "metadata": {},
   "outputs": [],
   "source": [
    "#Extracting predictions to a variable\n",
    "y_pred = xg_reg.predict(X_test)"
   ]
  },
  {
   "cell_type": "code",
   "execution_count": 103,
   "id": "a7e5fa5c",
   "metadata": {},
   "outputs": [
    {
     "data": {
      "text/plain": [
       "array([ 1.14234976e-01,  2.51183567e+01,  1.62706314e+02,  1.04900894e+01,\n",
       "        1.35204611e+01,  2.74422264e+00,  8.50849915e+00,  2.15803790e+00,\n",
       "        1.60005894e+01,  4.11276484e+00,  3.09301959e-03,  6.30827367e-01,\n",
       "        9.16125031e+01,  6.76162148e+00,  5.77659726e-01,  1.60611224e+00,\n",
       "        1.68961945e+02,  6.32358322e+01,  4.74116474e-01,  1.07029028e+01,\n",
       "        2.02977061e+00,  6.16698027e-01, -2.33539119e-02,  1.87106967e+00,\n",
       "        2.77033663e+00,  1.75558910e+01,  1.29113197e+00,  1.34016352e+01,\n",
       "        2.77310282e-01,  3.19073987e+00,  9.35235202e-01,  9.37408161e+00,\n",
       "        1.78176260e+00,  1.25985823e+01,  5.56197286e-01,  6.81739300e-02,\n",
       "        4.36599255e+00,  1.86653748e+01,  7.22506571e+00,  7.21465528e-01,\n",
       "        1.59385252e+01,  4.65708748e-02,  2.13789201e+00,  1.81671448e+01,\n",
       "        2.41955185e+01,  1.55449314e+01,  6.53553104e+00,  9.50714588e+00,\n",
       "        4.26936874e+01,  9.84724426e+01,  2.17736263e+01,  1.02943239e+01,\n",
       "        6.91888869e-01,  3.00330334e+01,  3.23441124e+01,  1.43518038e+01,\n",
       "        8.41244042e-01,  4.89130592e+00,  9.14814224e+01,  1.66347103e+01,\n",
       "        1.44039581e+02,  6.67873459e+01,  1.17223576e-01,  3.93083191e+01,\n",
       "        1.00113115e+01,  9.96158386e+02,  9.21342468e+00,  6.40713155e-01,\n",
       "        3.76749396e-01,  4.37936163e+00,  3.09301959e-03,  3.28206367e+01,\n",
       "        9.89186287e-01,  2.99593091e-01,  2.22383308e+01,  6.76162148e+00,\n",
       "        1.08662539e+01,  3.81946135e+00,  6.40713155e-01], dtype=float32)"
      ]
     },
     "execution_count": 103,
     "metadata": {},
     "output_type": "execute_result"
    }
   ],
   "source": [
    "y_pred"
   ]
  },
  {
   "cell_type": "code",
   "execution_count": 107,
   "id": "55682baa",
   "metadata": {},
   "outputs": [
    {
     "name": "stdout",
     "output_type": "stream",
     "text": [
      "1209.7886102460598\n"
     ]
    }
   ],
   "source": [
    "# Checking model performance with MSE and RMSE\n",
    "from sklearn.metrics import mean_squared_error\n",
    "mse = mean_squared_error(y_test, y_pred)\n",
    "print(mse)"
   ]
  },
  {
   "cell_type": "code",
   "execution_count": 109,
   "id": "b7fd76c2",
   "metadata": {},
   "outputs": [
    {
     "data": {
      "text/plain": [
       "0.9138017541278903"
      ]
     },
     "execution_count": 109,
     "metadata": {},
     "output_type": "execute_result"
    }
   ],
   "source": [
    "# Checking model performance with r2\n",
    "\n",
    "from sklearn.metrics import r2_score\n",
    "r2_score(y_test, y_pred)"
   ]
  },
  {
   "cell_type": "code",
   "execution_count": 110,
   "id": "607d0982",
   "metadata": {},
   "outputs": [
    {
     "data": {
      "image/png": "[encoded data removed]",
      "text/plain": [
       "<Figure size 640x480 with 1 Axes>"
      ]
     },
     "metadata": {},
     "output_type": "display_data"
    }
   ],
   "source": [
    "#PLotting the predictions\n",
    "\n",
    "import matplotlib.pyplot as plt\n",
    "import seaborn as sns\n",
    "\n",
    "# y_true contains the true values of the target variable\n",
    "# y_pred contains the predicted values of the target variable\n",
    "sns.scatterplot(x=y_test, y=y_pred)\n",
    "plt.xlabel('Actual Values')\n",
    "plt.ylabel('Predicted Values')\n",
    "plt.show()"
   ]
  },
  {
   "cell_type": "code",
   "execution_count": 112,
   "id": "62e3395c",
   "metadata": {},
   "outputs": [
    {
     "data": {
      "image/png": "[encoded data removed]",
      "text/plain": [
       "<Figure size 640x480 with 1 Axes>"
      ]
     },
     "metadata": {},
     "output_type": "display_data"
    }
   ],
   "source": [
    "# EXtracting variable importance\n",
    "\n",
    "from xgboost import plot_importance\n",
    "plot_importance(xg_reg)\n",
    "plt.show()"
   ]
  },
  {
   "cell_type": "code",
   "execution_count": 116,
   "id": "572ef67d",
   "metadata": {},
   "outputs": [
    {
     "data": {
      "text/plain": [
       "Index(['ent', 'tyl_ent', 'ecoli'], dtype='object')"
      ]
     },
     "execution_count": 116,
     "metadata": {},
     "output_type": "execute_result"
    }
   ],
   "source": [
    "#Revisiting what variables were used for input\n",
    "X_train.columns"
   ]
  },
  {
   "cell_type": "code",
   "execution_count": 129,
   "id": "a45e13ed",
   "metadata": {},
   "outputs": [
    {
     "name": "stdout",
     "output_type": "stream",
     "text": [
      "Enter value for ent: 5\n",
      "Enter value for tyl_ent: 5\n",
      "Enter value for ecoli: 5\n",
      "Predicted value of tet_ent is:  11.159622\n"
     ]
    }
   ],
   "source": [
    "#Writing a code to ask user input, use the developed model to give instant predictions\n",
    "\n",
    "ent = float(input(\"Enter value for ent: \"))\n",
    "tyl_ent = float(input(\"Enter value for tyl_ent: \"))\n",
    "ecoli = float(input(\"Enter value for ecoli: \"))\n",
    "\n",
    "# Create a DataFrame with the user input\n",
    "user_input = pd.DataFrame({\n",
    "    'ent': [ent],\n",
    "    'tyl_ent': [tyl_ent],\n",
    "    'ecoli': [ecoli]\n",
    "})\n",
    "\n",
    "# Make a prediction for the user input\n",
    "prediction = xg_reg.predict(user_input)\n",
    "\n",
    "# Print the predicted value\n",
    "print(\"Predicted value of tet_ent is: \", prediction[0])\n"
   ]
  }
 ],
 "metadata": {
  "kernelspec": {
   "display_name": "Python 3 (ipykernel)",
   "language": "python",
   "name": "python3"
  },
  "language_info": {
   "codemirror_mode": {
    "name": "ipython",
    "version": 3
   },
   "file_extension": ".py",
   "mimetype": "text/x-python",
   "name": "python",
   "nbconvert_exporter": "python",
   "pygments_lexer": "ipython3",
   "version": "3.9.13"
  }
 },
 "nbformat": 4,
 "nbformat_minor": 5
}
